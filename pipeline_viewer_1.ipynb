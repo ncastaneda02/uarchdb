{
 "cells": [
  {
   "cell_type": "code",
   "execution_count": 76,
   "id": "ffe91dc6-cd11-4d0c-93e4-5ecbc25a3286",
   "metadata": {},
   "outputs": [],
   "source": [
    "import pandas as pd\n",
    "import numpy as np\n",
    "import json\n",
    "import networkx as nx\n",
    "import time\n",
    "import heapq\n",
    "import subprocess\n",
    "from subprocess import Popen, PIPE, STDOUT\n",
    "import time\n",
    "!chmod +x spike-dasm.exe"
   ]
  },
  {
   "cell_type": "code",
   "execution_count": 77,
   "id": "99bb1677-3365-4b67-be85-06b78e537a4d",
   "metadata": {},
   "outputs": [],
   "source": [
    "# Read JSON\n",
    "with open('rv64um-v-mul.out', 'r') as f:\n",
    "    json_lines = f.readlines()\n",
    "\n",
    "inst_jsons = []\n",
    "for line in json_lines:\n",
    "    try:\n",
    "        inst_jsons.append(json.loads(line))\n",
    "    except json.JSONDecodeError:\n",
    "        pass"
   ]
  },
  {
   "cell_type": "code",
   "execution_count": 78,
   "id": "7c48e30c-44a1-410b-b38a-5bbe86ef3777",
   "metadata": {},
   "outputs": [
    {
     "data": {
      "text/plain": [
       "('unknown\\n', '')"
      ]
     },
     "execution_count": 78,
     "metadata": {},
     "output_type": "execute_result"
    }
   ],
   "source": [
    "p = Popen(\"./spike-dasm.exe --isa=rv64gcv\", stdout=PIPE, stdin=PIPE, stderr=PIPE, text=True, shell=True)\n",
    "stdout_data = p.communicate(input=f\"DASM(0x0001041f)\")\n",
    "stdout_data"
   ]
  },
  {
   "cell_type": "code",
   "execution_count": null,
   "id": "2175508c-e9bc-49b8-8cce-50636d3d63b5",
   "metadata": {},
   "outputs": [],
   "source": []
  },
  {
   "cell_type": "code",
   "execution_count": 79,
   "id": "23883804-1914-4498-b134-d096230e3769",
   "metadata": {},
   "outputs": [],
   "source": [
    "def generate_data_array(jsons):\n",
    "    arr = []\n",
    "    for json in jsons:\n",
    "        if json[\"event_name\"] == \"EX\":\n",
    "            p = Popen(\"./spike-dasm.exe --isa=rv64gcv\", stdout=PIPE, stdin=PIPE, stderr=PIPE, text=True, shell=True)\n",
    "            stdout_data = p.communicate(input=f\"DASM({json['data']})\")[0].strip()\n",
    "            arr.append(stdout_data)\n",
    "        else:\n",
    "            arr.append(json[\"data\"])\n",
    "    return np.array(arr)\n",
    "inst_ids = np.array([inst_jsons[i][\"id\"] for i in range(len(inst_jsons))])\n",
    "inst_cycle = np.array([inst_jsons[i][\"cycle\"].strip() for i in range(len(inst_jsons))])\n",
    "inst_event = np.array([inst_jsons[i][\"event_name\"] for i in range(len(inst_jsons))])\n",
    "data_field = generate_data_array(inst_jsons)\n",
    "inst_parent = np.array([inst_jsons[i][\"parents\"] for i in range(len(inst_jsons))])\n",
    "data = np.column_stack((inst_ids,inst_parent, inst_cycle, inst_event, data_field))\n",
    "columns = [\"inst_id\", \"parent_id\", \"cycle\", \"stage\", \"data\"]\n",
    "df = pd.DataFrame(data=data, columns=columns)"
   ]
  },
  {
   "cell_type": "code",
   "execution_count": 87,
   "id": "9fa53aa2",
   "metadata": {
    "scrolled": true
   },
   "outputs": [
    {
     "data": {
      "text/html": [
       "<div>\n",
       "<style scoped>\n",
       "    .dataframe tbody tr th:only-of-type {\n",
       "        vertical-align: middle;\n",
       "    }\n",
       "\n",
       "    .dataframe tbody tr th {\n",
       "        vertical-align: top;\n",
       "    }\n",
       "\n",
       "    .dataframe thead th {\n",
       "        text-align: right;\n",
       "    }\n",
       "</style>\n",
       "<table border=\"1\" class=\"dataframe\">\n",
       "  <thead>\n",
       "    <tr style=\"text-align: right;\">\n",
       "      <th></th>\n",
       "      <th>inst_id</th>\n",
       "      <th>parent_id</th>\n",
       "      <th>cycle</th>\n",
       "      <th>stage</th>\n",
       "      <th>data</th>\n",
       "    </tr>\n",
       "  </thead>\n",
       "  <tbody>\n",
       "    <tr>\n",
       "      <th>236</th>\n",
       "      <td>0x0000000000083793</td>\n",
       "      <td>None</td>\n",
       "      <td>538515</td>\n",
       "      <td>IF1</td>\n",
       "      <td>0x0000010020</td>\n",
       "    </tr>\n",
       "    <tr>\n",
       "      <th>242</th>\n",
       "      <td>0x0000000100083794</td>\n",
       "      <td>0x0000000000083793</td>\n",
       "      <td>538516</td>\n",
       "      <td>IF2</td>\n",
       "      <td>0x0000010020</td>\n",
       "    </tr>\n",
       "    <tr>\n",
       "      <th>255</th>\n",
       "      <td>0x0000000500083796</td>\n",
       "      <td>0x0000000400083795</td>\n",
       "      <td>538518</td>\n",
       "      <td>MEM</td>\n",
       "      <td>0x0000010020</td>\n",
       "    </tr>\n",
       "    <tr>\n",
       "      <th>263</th>\n",
       "      <td>0x0000000000083798</td>\n",
       "      <td>None</td>\n",
       "      <td>538520</td>\n",
       "      <td>IF1</td>\n",
       "      <td>0x0000010020</td>\n",
       "    </tr>\n",
       "    <tr>\n",
       "      <th>267</th>\n",
       "      <td>0x0000000100083799</td>\n",
       "      <td>0x0000000000083798</td>\n",
       "      <td>538521</td>\n",
       "      <td>IF2</td>\n",
       "      <td>0x0000010020</td>\n",
       "    </tr>\n",
       "    <tr>\n",
       "      <th>273</th>\n",
       "      <td>0x000000050008379b</td>\n",
       "      <td>0x000000040008379a</td>\n",
       "      <td>538523</td>\n",
       "      <td>MEM</td>\n",
       "      <td>0x0000010020</td>\n",
       "    </tr>\n",
       "    <tr>\n",
       "      <th>282</th>\n",
       "      <td>0x000000070008379d</td>\n",
       "      <td>0x000000060008379c</td>\n",
       "      <td>538525</td>\n",
       "      <td>RET</td>\n",
       "      <td>0x0000010020</td>\n",
       "    </tr>\n",
       "  </tbody>\n",
       "</table>\n",
       "</div>"
      ],
      "text/plain": [
       "                inst_id           parent_id   cycle stage          data\n",
       "236  0x0000000000083793                None  538515   IF1  0x0000010020\n",
       "242  0x0000000100083794  0x0000000000083793  538516   IF2  0x0000010020\n",
       "255  0x0000000500083796  0x0000000400083795  538518   MEM  0x0000010020\n",
       "263  0x0000000000083798                None  538520   IF1  0x0000010020\n",
       "267  0x0000000100083799  0x0000000000083798  538521   IF2  0x0000010020\n",
       "273  0x000000050008379b  0x000000040008379a  538523   MEM  0x0000010020\n",
       "282  0x000000070008379d  0x000000060008379c  538525   RET  0x0000010020"
      ]
     },
     "execution_count": 87,
     "metadata": {},
     "output_type": "execute_result"
    }
   ],
   "source": [
    "df[df[\"data\"].str.contains(\"0x0000010020\")]"
   ]
  },
  {
   "cell_type": "code",
   "execution_count": 91,
   "id": "7106f77b-dfd9-4655-99f4-c57bc57b2c15",
   "metadata": {},
   "outputs": [
    {
     "data": {
      "text/html": [
       "<div>\n",
       "<style scoped>\n",
       "    .dataframe tbody tr th:only-of-type {\n",
       "        vertical-align: middle;\n",
       "    }\n",
       "\n",
       "    .dataframe tbody tr th {\n",
       "        vertical-align: top;\n",
       "    }\n",
       "\n",
       "    .dataframe thead th {\n",
       "        text-align: right;\n",
       "    }\n",
       "</style>\n",
       "<table border=\"1\" class=\"dataframe\">\n",
       "  <thead>\n",
       "    <tr style=\"text-align: right;\">\n",
       "      <th></th>\n",
       "      <th>inst_id</th>\n",
       "      <th>parent_id</th>\n",
       "      <th>cycle</th>\n",
       "      <th>stage</th>\n",
       "      <th>data</th>\n",
       "    </tr>\n",
       "  </thead>\n",
       "  <tbody>\n",
       "    <tr>\n",
       "      <th>277</th>\n",
       "      <td>0x000000060008379c</td>\n",
       "      <td>0x000000050008379b</td>\n",
       "      <td>538524</td>\n",
       "      <td>WB</td>\n",
       "      <td>0x0000000002000004</td>\n",
       "    </tr>\n",
       "  </tbody>\n",
       "</table>\n",
       "</div>"
      ],
      "text/plain": [
       "                inst_id           parent_id   cycle stage                data\n",
       "277  0x000000060008379c  0x000000050008379b  538524    WB  0x0000000002000004"
      ]
     },
     "execution_count": 91,
     "metadata": {},
     "output_type": "execute_result"
    }
   ],
   "source": [
    "df[df[\"parent_id\"].str.contains(\"0x000000050008379b\")]"
   ]
  },
  {
   "cell_type": "code",
   "execution_count": 92,
   "id": "5ab1b7c2",
   "metadata": {},
   "outputs": [],
   "source": [
    "def construct_graph(df):\n",
    "    DG = nx.DiGraph()\n",
    "    for row in df.itertuples():\n",
    "        DG.add_node(row.inst_id, cycle=row.cycle, data=row.data, stage=row.stage)\n",
    "        if row.parent_id != \"None\":\n",
    "            DG.add_edge(row.parent_id, row.inst_id)\n",
    "    return DG            \n",
    "\n",
    "def construct_speculative_trace(G):\n",
    "    paths = []\n",
    "    id = 0\n",
    "    for node in G:\n",
    "        data = G.nodes[node]\n",
    "        if G.in_degree(node) == 0: # root node\n",
    "            new_paths = trace_down(G, node, [], [])\n",
    "            paths.extend(new_paths)\n",
    "    for path in paths:\n",
    "        if path[-1][0] != \"RET\":\n",
    "            path.append((\"FLUSH\", str(int(path[-1][1]) + 1), None))\n",
    "        path.insert(0, (id, path[0][-1]))\n",
    "    return paths\n",
    "\n",
    "def trace_down(G, node, curr_path, paths):\n",
    "    data = G.nodes[node]\n",
    "    curr_path.append((data[\"stage\"], data[\"cycle\"], data[\"data\"]))\n",
    "    if G.out_degree(node) == 0: # terminal node\n",
    "        paths.append(curr_path)\n",
    "        return paths\n",
    "    succs = list(DG.successors(node))\n",
    "    if data[\"stage\"] == \"EX\" and len(succs) > 1:\n",
    "        inst_paths = [trace_down(G, n, [], [])[0] for n in succs]\n",
    "        inst_paths = inst_paths[1] + inst_paths[0]\n",
    "        inst_paths.sort(key=lambda x: x[1])\n",
    "        merged_path = []\n",
    "        for i, p in enumerate(inst_paths):\n",
    "            if p[0] == \"WB\":\n",
    "                continue\n",
    "            elif p[0] == \"RET\":\n",
    "                continue\n",
    "            elif p[0] == \"LLWB\":\n",
    "                merged_path.append((\"LLWB\", p[1], p[2]))\n",
    "                merged_path.append((\"RET\", str(int(p[1]) + 1), p[2]))\n",
    "            else:\n",
    "                merged_path.append(p)\n",
    "        paths.append(curr_path + merged_path)\n",
    "    else:\n",
    "        for n in succs:\n",
    "            paths.extend(trace_down(G, n, curr_path[:], []))\n",
    "    return paths\n",
    "\n",
    "def construct_committed_trace(G):\n",
    "    paths = []\n",
    "    id = 0\n",
    "    for node in G:\n",
    "        data = G.nodes[node]\n",
    "        if G.out_degree(node) == 0 and data[\"stage\"] == \"RET\": # committed leaf node\n",
    "            new_path = trace_up(G, node)\n",
    "            new_path.insert(0, (id, data[\"data\"]))\n",
    "            paths.append(new_path)\n",
    "            id += 1\n",
    "    return paths\n",
    "\n",
    "def trace_up(G, node):\n",
    "    path = []\n",
    "    while node:\n",
    "        data = G.nodes[node]\n",
    "        path.insert(0, (data[\"stage\"], data[\"cycle\"], data[\"data\"]))\n",
    "        node = list(DG.predecessors(node))[0] if list(DG.predecessors(node)) else \"\"\n",
    "    return path\n",
    "    "
   ]
  },
  {
   "cell_type": "code",
   "execution_count": 93,
   "id": "432470dc-7863-4d7b-9217-d14bd1bd89db",
   "metadata": {},
   "outputs": [],
   "source": [
    "DG = construct_graph(df)"
   ]
  },
  {
   "cell_type": "code",
   "execution_count": 7,
   "id": "f3e35642-e5c5-484b-a436-46d1ffe4e2dd",
   "metadata": {},
   "outputs": [],
   "source": [
    "paths = construct_committed_trace(DG)"
   ]
  },
  {
   "cell_type": "code",
   "execution_count": 94,
   "id": "3547b799-9016-4190-95bc-8e16edfe1b0f",
   "metadata": {},
   "outputs": [],
   "source": [
    "spec_paths = construct_speculative_trace(DG)"
   ]
  },
  {
   "cell_type": "code",
   "execution_count": null,
   "id": "3fd42c87-1ad7-4ecf-9779-b852b4927f6b",
   "metadata": {},
   "outputs": [],
   "source": []
  },
  {
   "cell_type": "code",
   "execution_count": 95,
   "id": "a0bde9ad",
   "metadata": {},
   "outputs": [],
   "source": [
    "import heapq\n",
    "\n",
    "def convert_to_kanata(threads, verbose=False):\n",
    "    pq = []\n",
    "    id = 0\n",
    "    if not verbose:\n",
    "        threads = list(filter(lambda x: x[-1][0] == 'RET', threads)) #Relies on the last element of inst list being RET\n",
    "    for inst in threads:\n",
    "        for stage in inst[1:]:\n",
    "            heapq.heappush(pq, ((int(stage[1])), (id, stage[2], stage[0]))) #Min heap of (cycle -> (unique_id, pc, pipeline stage))\n",
    "        id += 1\n",
    "            \n",
    "    with open('mulf.log', 'w') as file:\n",
    "        file.write('Kanata    0004\\n')\n",
    "        cycle, (id, pc, stage) = heapq.heappop(pq)\n",
    "        prev_cycle = cycle\n",
    "        file.write(f'C=\\t{cycle}\\n')\n",
    "        while pq:\n",
    "            cycle_diff = cycle - prev_cycle\n",
    "            if (cycle_diff > 0):\n",
    "                file.write(f\"C\\t{cycle_diff}\\n\")\n",
    "            if (stage == 'IF1'):\n",
    "                file.write(f\"I\\t{id}\\t{cycle}\\t0\\n\")\n",
    "                # file.write(f\"L    {id}    0    {pc}\\n\")\n",
    "            if (stage == 'RET'):\n",
    "                file.write(f\"R\\t{id}\\t{id}\\t0\\n\")\n",
    "            elif (stage == 'FLUSH'):\n",
    "                file.write(f\"R\\t{id}\\t{id}\\t1\\n\")\n",
    "            elif (stage == \"MEM\"):\n",
    "                file.write(f\"S\\t{id}\\t0\\t{stage}\\n\")\n",
    "                file.write(f\"L\\t{id}\\t0\\tPC:{pc}\\n\")\n",
    "            elif (stage == \"EX\"):\n",
    "                file.write(f\"S\\t{id}\\t0\\t{stage}\\n\")\n",
    "                file.write(f\"L\\t{id}\\t0\\t{pc} \\n\")\n",
    "            else:\n",
    "                file.write(f\"S\\t{id}\\t0\\t{stage}\\n\")\n",
    "                file.write(f\"L\\t{id}\\t1\\tPC:{pc}\\n\")\n",
    "\n",
    "            prev_cycle = cycle\n",
    "            cycle, (id, pc, stage) = heapq.heappop(pq)"
   ]
  },
  {
   "cell_type": "code",
   "execution_count": 96,
   "id": "ffe44ac4",
   "metadata": {},
   "outputs": [],
   "source": [
    "convert_to_kanata(spec_paths, verbose=True)"
   ]
  },
  {
   "cell_type": "code",
   "execution_count": null,
   "id": "cac62457-2c9e-4631-a7a3-4102d8f80c32",
   "metadata": {},
   "outputs": [],
   "source": []
  }
 ],
 "metadata": {
  "kernelspec": {
   "display_name": "Python 3 (ipykernel)",
   "language": "python",
   "name": "python3"
  },
  "language_info": {
   "codemirror_mode": {
    "name": "ipython",
    "version": 3
   },
   "file_extension": ".py",
   "mimetype": "text/x-python",
   "name": "python",
   "nbconvert_exporter": "python",
   "pygments_lexer": "ipython3",
   "version": "3.10.13"
  }
 },
 "nbformat": 4,
 "nbformat_minor": 5
}
