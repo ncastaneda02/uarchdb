{
 "cells": [
  {
   "cell_type": "code",
   "execution_count": 5,
   "id": "ffe91dc6-cd11-4d0c-93e4-5ecbc25a3286",
   "metadata": {},
   "outputs": [],
   "source": [
    "import pandas as pd\n",
    "import numpy as np\n",
    "import json\n",
    "import networkx as nx\n",
    "import time\n",
    "import heapq\n",
    "import subprocess\n",
    "from subprocess import Popen, PIPE, STDOUT\n",
    "import time\n",
    "!chmod +x spike-dasm.exe"
   ]
  },
  {
   "cell_type": "code",
   "execution_count": 32,
   "id": "99bb1677-3365-4b67-be85-06b78e537a4d",
   "metadata": {},
   "outputs": [],
   "source": [
    "# Read JSON\n",
    "with open('rv64um-v-mul.out', 'r') as f:\n",
    "    json_lines = f.readlines()\n",
    "\n",
    "inst_jsons = []\n",
    "for line in json_lines:\n",
    "    try:\n",
    "        inst_jsons.append(json.loads(line))\n",
    "    except json.JSONDecodeError:\n",
    "        pass"
   ]
  },
  {
   "cell_type": "code",
   "execution_count": 31,
   "id": "7c48e30c-44a1-410b-b38a-5bbe86ef3777",
   "metadata": {},
   "outputs": [
    {
     "data": {
      "text/plain": [
       "('unknown\\n', '')"
      ]
     },
     "execution_count": 31,
     "metadata": {},
     "output_type": "execute_result"
    }
   ],
   "source": [
    "p = Popen(\"./spike-dasm.exe\", stdout=PIPE, stdin=PIPE, stderr=PIPE, text=True, shell=True)\n",
    "stdout_data = p.communicate(input=f\"DASM(0x0001041f)\")\n",
    "stdout_data"
   ]
  },
  {
   "cell_type": "code",
   "execution_count": null,
   "id": "2175508c-e9bc-49b8-8cce-50636d3d63b5",
   "metadata": {},
   "outputs": [],
   "source": []
  },
  {
   "cell_type": "code",
   "execution_count": 33,
   "id": "23883804-1914-4498-b134-d096230e3769",
   "metadata": {},
   "outputs": [],
   "source": [
    "def generate_data_array(jsons):\n",
    "    arr = []\n",
    "    for json in jsons:\n",
    "        if json[\"event_name\"] == \"EX\":\n",
    "            p = Popen(\"./spike-dasm.exe\", stdout=PIPE, stdin=PIPE, stderr=PIPE, text=True, shell=True)\n",
    "            stdout_data = p.communicate(input=f\"DASM({json['data']})\")[0].strip()\n",
    "            arr.append(stdout_data)\n",
    "        else:\n",
    "            arr.append(json[\"data\"])\n",
    "    return np.array(arr)\n",
    "inst_ids = np.array([inst_jsons[i][\"id\"] for i in range(len(inst_jsons))])\n",
    "inst_cycle = np.array([inst_jsons[i][\"cycle\"].strip() for i in range(len(inst_jsons))])\n",
    "inst_event = np.array([inst_jsons[i][\"event_name\"] for i in range(len(inst_jsons))])\n",
    "data_field = generate_data_array(inst_jsons)\n",
    "inst_parent = np.array([inst_jsons[i][\"parents\"] for i in range(len(inst_jsons))])\n",
    "data = np.column_stack((inst_ids,inst_parent, inst_cycle, inst_event, data_field))\n",
    "columns = [\"inst_id\", \"parent_id\", \"cycle\", \"stage\", \"data\"]\n",
    "df = pd.DataFrame(data=data, columns=columns)"
   ]
  },
  {
   "cell_type": "code",
   "execution_count": 34,
   "id": "9fa53aa2",
   "metadata": {
    "scrolled": true
   },
   "outputs": [
    {
     "data": {
      "text/html": [
       "<div>\n",
       "<style scoped>\n",
       "    .dataframe tbody tr th:only-of-type {\n",
       "        vertical-align: middle;\n",
       "    }\n",
       "\n",
       "    .dataframe tbody tr th {\n",
       "        vertical-align: top;\n",
       "    }\n",
       "\n",
       "    .dataframe thead th {\n",
       "        text-align: right;\n",
       "    }\n",
       "</style>\n",
       "<table border=\"1\" class=\"dataframe\">\n",
       "  <thead>\n",
       "    <tr style=\"text-align: right;\">\n",
       "      <th></th>\n",
       "      <th>inst_id</th>\n",
       "      <th>parent_id</th>\n",
       "      <th>cycle</th>\n",
       "      <th>stage</th>\n",
       "      <th>data</th>\n",
       "    </tr>\n",
       "  </thead>\n",
       "  <tbody>\n",
       "    <tr>\n",
       "      <th>0</th>\n",
       "      <td>0x0000000000000000</td>\n",
       "      <td>None</td>\n",
       "      <td>0</td>\n",
       "      <td>IF1</td>\n",
       "      <td>0x0000010040</td>\n",
       "    </tr>\n",
       "    <tr>\n",
       "      <th>1</th>\n",
       "      <td>0x0000000000000001</td>\n",
       "      <td>None</td>\n",
       "      <td>1</td>\n",
       "      <td>IF1</td>\n",
       "      <td>0x0000010044</td>\n",
       "    </tr>\n",
       "    <tr>\n",
       "      <th>2</th>\n",
       "      <td>0x0000000100000001</td>\n",
       "      <td>0x0000000000000000</td>\n",
       "      <td>1</td>\n",
       "      <td>IF2</td>\n",
       "      <td>0x0000010040</td>\n",
       "    </tr>\n",
       "    <tr>\n",
       "      <th>3</th>\n",
       "      <td>0x0000000000000002</td>\n",
       "      <td>None</td>\n",
       "      <td>2</td>\n",
       "      <td>IF1</td>\n",
       "      <td>0x0000010040</td>\n",
       "    </tr>\n",
       "    <tr>\n",
       "      <th>4</th>\n",
       "      <td>0x0000000000000003</td>\n",
       "      <td>None</td>\n",
       "      <td>3</td>\n",
       "      <td>IF1</td>\n",
       "      <td>0x0000010044</td>\n",
       "    </tr>\n",
       "    <tr>\n",
       "      <th>...</th>\n",
       "      <td>...</td>\n",
       "      <td>...</td>\n",
       "      <td>...</td>\n",
       "      <td>...</td>\n",
       "      <td>...</td>\n",
       "    </tr>\n",
       "    <tr>\n",
       "      <th>597466</th>\n",
       "      <td>0x0000000000087758</td>\n",
       "      <td>None</td>\n",
       "      <td>554840</td>\n",
       "      <td>IF1</td>\n",
       "      <td>0xffffe022c0</td>\n",
       "    </tr>\n",
       "    <tr>\n",
       "      <th>597467</th>\n",
       "      <td>0x0000000100087758</td>\n",
       "      <td>0x0000000000087757</td>\n",
       "      <td>554840</td>\n",
       "      <td>IF2</td>\n",
       "      <td>0xffffe022bc</td>\n",
       "    </tr>\n",
       "    <tr>\n",
       "      <th>597468</th>\n",
       "      <td>0x0000000400087758</td>\n",
       "      <td>0x0000000100087757</td>\n",
       "      <td>554840</td>\n",
       "      <td>EX</td>\n",
       "      <td>c.fld   fa5, 64(a3)</td>\n",
       "    </tr>\n",
       "    <tr>\n",
       "      <th>597469</th>\n",
       "      <td>0x0000000500087758</td>\n",
       "      <td>0x0000000400087757</td>\n",
       "      <td>554840</td>\n",
       "      <td>MEM</td>\n",
       "      <td>0xffffe022bc</td>\n",
       "    </tr>\n",
       "    <tr>\n",
       "      <th>597470</th>\n",
       "      <td>0x0000000700087758</td>\n",
       "      <td>0x0000000600087757</td>\n",
       "      <td>554840</td>\n",
       "      <td>RET</td>\n",
       "      <td>0x0000006f</td>\n",
       "    </tr>\n",
       "  </tbody>\n",
       "</table>\n",
       "<p>597471 rows × 5 columns</p>\n",
       "</div>"
      ],
      "text/plain": [
       "                   inst_id           parent_id   cycle stage  \\\n",
       "0       0x0000000000000000                None       0   IF1   \n",
       "1       0x0000000000000001                None       1   IF1   \n",
       "2       0x0000000100000001  0x0000000000000000       1   IF2   \n",
       "3       0x0000000000000002                None       2   IF1   \n",
       "4       0x0000000000000003                None       3   IF1   \n",
       "...                    ...                 ...     ...   ...   \n",
       "597466  0x0000000000087758                None  554840   IF1   \n",
       "597467  0x0000000100087758  0x0000000000087757  554840   IF2   \n",
       "597468  0x0000000400087758  0x0000000100087757  554840    EX   \n",
       "597469  0x0000000500087758  0x0000000400087757  554840   MEM   \n",
       "597470  0x0000000700087758  0x0000000600087757  554840   RET   \n",
       "\n",
       "                       data  \n",
       "0              0x0000010040  \n",
       "1              0x0000010044  \n",
       "2              0x0000010040  \n",
       "3              0x0000010040  \n",
       "4              0x0000010044  \n",
       "...                     ...  \n",
       "597466         0xffffe022c0  \n",
       "597467         0xffffe022bc  \n",
       "597468  c.fld   fa5, 64(a3)  \n",
       "597469         0xffffe022bc  \n",
       "597470           0x0000006f  \n",
       "\n",
       "[597471 rows x 5 columns]"
      ]
     },
     "execution_count": 34,
     "metadata": {},
     "output_type": "execute_result"
    }
   ],
   "source": []
  },
  {
   "cell_type": "code",
   "execution_count": 36,
   "id": "5ab1b7c2",
   "metadata": {},
   "outputs": [],
   "source": [
    "def construct_graph(df):\n",
    "    DG = nx.DiGraph()\n",
    "    for row in df.itertuples():\n",
    "        DG.add_node(row.inst_id, cycle=row.cycle, data=row.data, stage=row.stage)\n",
    "        if row.parent_id != \"None\":\n",
    "            DG.add_edge(row.parent_id, row.inst_id)\n",
    "    return DG\n",
    "\n",
    "def construct_speculative_trace(G):\n",
    "    paths = []\n",
    "    id = 0\n",
    "    for node in G:\n",
    "        data = G.nodes[node]\n",
    "        if G.in_degree(node) == 0: # root node\n",
    "            new_paths = trace_down(G, node, [], [])\n",
    "            paths.extend(new_paths)\n",
    "    for path in paths:\n",
    "        if path[-1][0] != \"RET\":\n",
    "            path.append((\"FLUSH\", str(int(path[-1][1]) + 1), None))\n",
    "        path.insert(0, (id, path[0][-1]))\n",
    "    return paths\n",
    "\n",
    "def trace_down(G, node, curr_path, paths):\n",
    "    data = G.nodes[node]\n",
    "    curr_path.append((data[\"stage\"], data[\"cycle\"], data[\"data\"]))\n",
    "    if G.out_degree(node) == 0: # terminal node\n",
    "        paths.append(curr_path)\n",
    "        return paths\n",
    "    succs = DG.successors(node)\n",
    "    for n in succs:\n",
    "        paths.extend(trace_down(G, n, curr_path[:], []))\n",
    "    return paths\n",
    "\n",
    "def construct_committed_trace(G):\n",
    "    paths = []\n",
    "    id = 0\n",
    "    for node in G:\n",
    "        data = G.nodes[node]\n",
    "        if G.out_degree(node) == 0 and data[\"stage\"] == \"RET\": # committed leaf node\n",
    "            new_path = trace_up(G, node)\n",
    "            new_path.insert(0, (id, data[\"data\"]))\n",
    "            paths.append(new_path)\n",
    "            id += 1\n",
    "    return paths\n",
    "\n",
    "def trace_up(G, node):\n",
    "    path = []\n",
    "    while node:\n",
    "        data = G.nodes[node]\n",
    "        path.insert(0, (data[\"stage\"], data[\"cycle\"], data[\"data\"]))\n",
    "        node = list(DG.predecessors(node))[0] if list(DG.predecessors(node)) else \"\"\n",
    "    return path\n",
    "    "
   ]
  },
  {
   "cell_type": "code",
   "execution_count": 37,
   "id": "432470dc-7863-4d7b-9217-d14bd1bd89db",
   "metadata": {},
   "outputs": [],
   "source": [
    "DG = construct_graph(df)"
   ]
  },
  {
   "cell_type": "code",
   "execution_count": 38,
   "id": "4c20b2d3-688e-4e7f-bf89-1fe43c04fb46",
   "metadata": {},
   "outputs": [
    {
     "data": {
      "text/plain": [
       "555084"
      ]
     },
     "execution_count": 38,
     "metadata": {},
     "output_type": "execute_result"
    }
   ],
   "source": [
    "num_paths = 0\n",
    "for node in DG:\n",
    "    if DG.out_degree(node) == 0: # leaf node\n",
    "        num_paths += 1\n",
    "num_paths"
   ]
  },
  {
   "cell_type": "code",
   "execution_count": 19,
   "id": "7193e6f1-58a6-46b0-b3fe-ebd47ab3c7af",
   "metadata": {},
   "outputs": [
    {
     "data": {
      "image/png": "[encoded data removed]",
      "text/plain": [
       "<Figure size 640x480 with 1 Axes>"
      ]
     },
     "metadata": {},
     "output_type": "display_data"
    }
   ],
   "source": [
    "for node in DG:\n",
    "    data = DG.nodes[node]\n",
    "    if DG.in_degree(node) == 0: # committed leaf node\n",
    "        nx.draw(DG.subgraph([node] + list(nx.descendants(DG, node))))\n",
    "        break"
   ]
  },
  {
   "cell_type": "code",
   "execution_count": 7,
   "id": "f3e35642-e5c5-484b-a436-46d1ffe4e2dd",
   "metadata": {},
   "outputs": [],
   "source": [
    "paths = construct_committed_trace(DG)"
   ]
  },
  {
   "cell_type": "code",
   "execution_count": 39,
   "id": "3547b799-9016-4190-95bc-8e16edfe1b0f",
   "metadata": {},
   "outputs": [],
   "source": [
    "spec_paths = construct_speculative_trace(DG)"
   ]
  },
  {
   "cell_type": "code",
   "execution_count": 40,
   "id": "3fd42c87-1ad7-4ecf-9779-b852b4927f6b",
   "metadata": {},
   "outputs": [],
   "source": [
    "filtered_paths = [p for p in spec_paths if int(p[0][1], 0) >= 0x80000000] "
   ]
  },
  {
   "cell_type": "code",
   "execution_count": 43,
   "id": "a0bde9ad",
   "metadata": {},
   "outputs": [],
   "source": [
    "import heapq\n",
    "\n",
    "def convert_to_kanata(threads, verbose=False):\n",
    "    pq = []\n",
    "    id = 0\n",
    "    if not verbose:\n",
    "        threads = list(filter(lambda x: x[-1][0] == 'RET', threads)) #Relies on the last element of inst list being RET\n",
    "    for inst in threads:\n",
    "        for stage in inst[1:]:\n",
    "            heapq.heappush(pq, ((int(stage[1])), (id, stage[2], stage[0]))) #Min heap of (cycle -> (unique_id, pc, pipeline stage))\n",
    "        id += 1\n",
    "            \n",
    "    with open('mulf.log', 'w') as file:\n",
    "        file.write('Kanata    0004\\n')\n",
    "        cycle, (id, pc, stage) = heapq.heappop(pq)\n",
    "        prev_cycle = cycle\n",
    "        file.write(f'C=\\t{cycle}\\n')\n",
    "        while pq:\n",
    "            cycle_diff = cycle - prev_cycle\n",
    "            if (cycle_diff > 0):\n",
    "                file.write(f\"C\\t{cycle_diff}\\n\")\n",
    "            if (stage == 'IF1'):\n",
    "                file.write(f\"I\\t{id}\\t{cycle}\\t0\\n\")\n",
    "                # file.write(f\"L    {id}    0    {pc}\\n\")\n",
    "            if (stage == 'RET'):\n",
    "                file.write(f\"R\\t{id}\\t{id}\\t0\\n\")\n",
    "            elif (stage == 'FLUSH'):\n",
    "                file.write(f\"R\\t{id}\\t{id}\\t1\\n\")\n",
    "            elif (stage == \"MEM\"):\n",
    "                file.write(f\"S\\t{id}\\t0\\t{stage}\\n\")\n",
    "                file.write(f\"L\\t{id}\\t0\\tPC:{pc}\\n\")\n",
    "            elif (stage == \"EX\"):\n",
    "                file.write(f\"S\\t{id}\\t0\\t{stage}\\n\")\n",
    "                file.write(f\"L\\t{id}\\t0\\t{pc} \\n\")\n",
    "            else:\n",
    "                file.write(f\"S\\t{id}\\t0\\t{stage}\\n\")\n",
    "                file.write(f\"L\\t{id}\\t1\\tPC:{pc}\\n\")\n",
    "\n",
    "            prev_cycle = cycle\n",
    "            cycle, (id, pc, stage) = heapq.heappop(pq)"
   ]
  },
  {
   "cell_type": "code",
   "execution_count": 44,
   "id": "ffe44ac4",
   "metadata": {},
   "outputs": [],
   "source": [
    "convert_to_kanata(filtered_paths, verbose=True)"
   ]
  },
  {
   "cell_type": "code",
   "execution_count": null,
   "id": "cac62457-2c9e-4631-a7a3-4102d8f80c32",
   "metadata": {},
   "outputs": [],
   "source": []
  }
 ],
 "metadata": {
  "kernelspec": {
   "display_name": "Python 3 (ipykernel)",
   "language": "python",
   "name": "python3"
  },
  "language_info": {
   "codemirror_mode": {
    "name": "ipython",
    "version": 3
   },
   "file_extension": ".py",
   "mimetype": "text/x-python",
   "name": "python",
   "nbconvert_exporter": "python",
   "pygments_lexer": "ipython3",
   "version": "3.11.5"
  }
 },
 "nbformat": 4,
 "nbformat_minor": 5
}
